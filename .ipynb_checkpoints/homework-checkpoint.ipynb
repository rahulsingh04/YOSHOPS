{
 "cells": [
  {
   "cell_type": "code",
   "execution_count": 1,
   "id": "f2911b5f",
   "metadata": {},
   "outputs": [],
   "source": [
    "import requests\n",
    "import urllib\n",
    "\n",
    "from bs4 import BeautifulSoup\n",
    "from urllib.request import Request\n",
    "from urllib.request import urlopen\n",
    "\n",
    "url = \"https://yoshops.com/t/seafood\"\n",
    "r = requests.get(url)\n"
   ]
  },
  {
   "cell_type": "code",
   "execution_count": 2,
   "id": "373ed19e",
   "metadata": {},
   "outputs": [],
   "source": [
    "html = urllib.request.urlopen(url)"
   ]
  },
  {
   "cell_type": "code",
   "execution_count": 3,
   "id": "a648dae5",
   "metadata": {},
   "outputs": [],
   "source": [
    "# The HTML content of the page is in html. Transform it into a BeautifulSoup object. \n",
    "soup = BeautifulSoup(html,'html.parser')"
   ]
  },
  {
   "cell_type": "code",
   "execution_count": null,
   "id": "732803cb",
   "metadata": {},
   "outputs": [],
   "source": [
    "\n",
    "\n",
    "\n"
   ]
  },
  {
   "cell_type": "code",
   "execution_count": 4,
   "id": "5242394f",
   "metadata": {},
   "outputs": [
    {
     "data": {
      "text/plain": [
       "1"
      ]
     },
     "execution_count": 4,
     "metadata": {},
     "output_type": "execute_result"
    }
   ],
   "source": [
    "### lets look for the div tags.\n",
    "span_tag = soup.find('span',  {\"class\":\"product-title\"})\n",
    "len(span_tag)"
   ]
  },
  {
   "cell_type": "code",
   "execution_count": 5,
   "id": "b32ace18",
   "metadata": {},
   "outputs": [
    {
     "data": {
      "text/plain": [
       "10"
      ]
     },
     "execution_count": 5,
     "metadata": {},
     "output_type": "execute_result"
    }
   ],
   "source": [
    "### lets look for the div tags.\n",
    "span_tag = soup.find_all('span',  {\"class\":\"product-title\"})\n",
    "len(span_tag)"
   ]
  },
  {
   "cell_type": "code",
   "execution_count": null,
   "id": "14ae0131",
   "metadata": {},
   "outputs": [],
   "source": []
  },
  {
   "cell_type": "code",
   "execution_count": 6,
   "id": "c20b69b4",
   "metadata": {},
   "outputs": [],
   "source": [
    "category_list = []\n",
    "for i in span_tag:\n",
    "    category_list.append(i.text)\n",
    "    \n",
    "    "
   ]
  },
  {
   "cell_type": "code",
   "execution_count": 7,
   "id": "bf748c0f",
   "metadata": {},
   "outputs": [],
   "source": [
    "####   write the fuction to know all the  categories of the seafood\n"
   ]
  },
  {
   "cell_type": "code",
   "execution_count": null,
   "id": "93fc821f",
   "metadata": {},
   "outputs": [],
   "source": []
  },
  {
   "cell_type": "code",
   "execution_count": null,
   "id": "5c820765",
   "metadata": {},
   "outputs": [],
   "source": []
  },
  {
   "cell_type": "code",
   "execution_count": 8,
   "id": "a3bf9dbf",
   "metadata": {},
   "outputs": [],
   "source": [
    "from autoscraper import AutoScraper"
   ]
  },
  {
   "cell_type": "code",
   "execution_count": 11,
   "id": "80bbac5a",
   "metadata": {},
   "outputs": [],
   "source": [
    "url = 'https://yoshops.com/t/seafood'\n",
    "wanted_list = [\"₹59.00\" , \"River Prawn Small- 4cm 250gm(Berhampur)\"]"
   ]
  },
  {
   "cell_type": "code",
   "execution_count": 12,
   "id": "3a998fde",
   "metadata": {},
   "outputs": [
    {
     "name": "stdout",
     "output_type": "stream",
     "text": [
      "['₹59.00', '₹149.00', '₹269.00', '₹99.00', '₹79.00', '₹199.00', '₹159.00', 'River Prawn Small- 4cm 250gm(Berhampur)', 'Rohu River Fish Raw 1Kg(Berhampur)', 'Rohu River Fish Cutting(No Head) 1Kg(Berhampur)', 'Vakura Catla River Fish Raw 1Kg(Berhampur)', 'Vakura Catla River Fish Cutting(No Head) 1Kg(Berhampur)', 'River Prawn Raw Big-12cm 250gm(Berhampur)', 'River Prawn Raw Middium- 6cm 250gm(Berhampur)', 'River Prawn Raw Big-12cm 500gm(Berhampur)', 'River Prawn Raw Middium- 6cm 500gm(Berhampur)', 'River Prawn Small- 4cm 500gm(Berhampur)']\n"
     ]
    }
   ],
   "source": [
    "scraper = AutoScraper()\n",
    "result = scraper.build(url, wanted_list)\n",
    "print(result)"
   ]
  },
  {
   "cell_type": "code",
   "execution_count": 13,
   "id": "ab9f3892",
   "metadata": {},
   "outputs": [],
   "source": [
    "# scraper.get_result_similar(\"https://github.com/krishnaik06?tab=repositories\",grouped=True)\n"
   ]
  },
  {
   "cell_type": "code",
   "execution_count": null,
   "id": "c8050a90",
   "metadata": {},
   "outputs": [],
   "source": []
  },
  {
   "cell_type": "code",
   "execution_count": null,
   "id": "c85b62b4",
   "metadata": {},
   "outputs": [],
   "source": []
  },
  {
   "cell_type": "code",
   "execution_count": null,
   "id": "60fd1a30",
   "metadata": {},
   "outputs": [],
   "source": []
  }
 ],
 "metadata": {
  "kernelspec": {
   "display_name": "Python 3 (ipykernel)",
   "language": "python",
   "name": "python3"
  },
  "language_info": {
   "codemirror_mode": {
    "name": "ipython",
    "version": 3
   },
   "file_extension": ".py",
   "mimetype": "text/x-python",
   "name": "python",
   "nbconvert_exporter": "python",
   "pygments_lexer": "ipython3",
   "version": "3.9.7"
  }
 },
 "nbformat": 4,
 "nbformat_minor": 5
}
