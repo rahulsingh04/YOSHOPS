{
 "cells": [
  {
   "cell_type": "code",
   "execution_count": 14,
   "id": "2a199279",
   "metadata": {
    "scrolled": false
   },
   "outputs": [],
   "source": [
    "from autoscraper import AutoScraper"
   ]
  },
  {
   "cell_type": "code",
   "execution_count": null,
   "id": "e828141e",
   "metadata": {},
   "outputs": [],
   "source": []
  },
  {
   "cell_type": "code",
   "execution_count": null,
   "id": "777ef4d5",
   "metadata": {},
   "outputs": [],
   "source": []
  },
  {
   "cell_type": "code",
   "execution_count": null,
   "id": "829993dd",
   "metadata": {},
   "outputs": [],
   "source": []
  },
  {
   "cell_type": "code",
   "execution_count": null,
   "id": "a02f8fb6",
   "metadata": {},
   "outputs": [],
   "source": []
  },
  {
   "cell_type": "code",
   "execution_count": null,
   "id": "d9674de7",
   "metadata": {},
   "outputs": [],
   "source": []
  },
  {
   "cell_type": "code",
   "execution_count": 15,
   "id": "53691126",
   "metadata": {},
   "outputs": [],
   "source": [
    "url='https://yoshops.com/t/playstation'"
   ]
  },
  {
   "cell_type": "code",
   "execution_count": 16,
   "id": "54fcd5a1",
   "metadata": {},
   "outputs": [],
   "source": [
    "wanted_list = ['Sony PlayStation PS2 Gaming Console 150 GB Hard Disk With 50 Games Preloaded(Black)',\n",
    "               '₹12,289.00₹8,999.00,']\n"
   ]
  },
  {
   "cell_type": "code",
   "execution_count": 19,
   "id": "0cbcf003",
   "metadata": {},
   "outputs": [],
   "source": [
    "scraper =  AutoScraper()\n",
    "result = scraper.build(url, wanted_list)"
   ]
  },
  {
   "cell_type": "code",
   "execution_count": 22,
   "id": "b8cf44ea",
   "metadata": {},
   "outputs": [
    {
     "name": "stdout",
     "output_type": "stream",
     "text": [
      "['Sony PlayStation PS2 Gaming Console 150 GB Hard Disk With 50 Games Preloaded(Black)', 'Sony PlayStation PS3 Console Slim 320 GB (Black)', 'Sony PlayStation PS1 with in-built DVD Player (Black)', 'Sony PlayStation PS4 Slim 1TB Console(Black)', 'SONY PlayStation PS4 PRO 1TB Hard Disk(Black)', 'Mini VR BOX Virtual Reality Headsets with ultra 3D glasses Compatible with Android and IOS Devices (Blue, Black)', 'Big Foot Mini Monster Truck']\n"
     ]
    }
   ],
   "source": [
    "print(result)"
   ]
  },
  {
   "cell_type": "code",
   "execution_count": 25,
   "id": "6885ed83",
   "metadata": {},
   "outputs": [
    {
     "data": {
      "text/plain": [
       "{'rule_eq2q': ['Sony PlayStation PS2 Gaming Console 150 GB Hard Disk With 50 Games Preloaded(Black)',\n",
       "  'Sony PlayStation PS3 Console Slim 320 GB (Black)',\n",
       "  'Sony PlayStation PS1 with in-built DVD Player (Black)',\n",
       "  'Sony PlayStation PS4 Slim 1TB Console(Black)',\n",
       "  'SONY PlayStation PS4 PRO 1TB Hard Disk(Black)',\n",
       "  'Mini VR BOX Virtual Reality Headsets with ultra 3D glasses Compatible with Android and IOS Devices (Blue, Black)',\n",
       "  'Big Foot Mini Monster Truck'],\n",
       " 'rule_zfo8': ['Sony PlayStation PS2 Gaming Console 150 GB Hard Disk With 50 Games Preloaded(Black)',\n",
       "  'Sony PlayStation PS3 Console Slim 320 GB (Black)',\n",
       "  'Sony PlayStation PS1 with in-built DVD Player (Black)',\n",
       "  'Sony PlayStation PS4 Slim 1TB Console(Black)',\n",
       "  'SONY PlayStation PS4 PRO 1TB Hard Disk(Black)',\n",
       "  'Mini VR BOX Virtual Reality Headsets with ultra 3D glasses Compatible with Android and IOS Devices (Blue, Black)',\n",
       "  'Big Foot Mini Monster Truck'],\n",
       " 'rule_dbqj': ['Sony PlayStation PS2 Gaming Console 150 GB Hard Disk With 50 Games Preloaded(Black)',\n",
       "  'Sony PlayStation PS3 Console Slim 320 GB (Black)',\n",
       "  'Sony PlayStation PS1 with in-built DVD Player (Black)',\n",
       "  'Sony PlayStation PS4 Slim 1TB Console(Black)',\n",
       "  'SONY PlayStation PS4 PRO 1TB Hard Disk(Black)',\n",
       "  'Mini VR BOX Virtual Reality Headsets with ultra 3D glasses Compatible with Android and IOS Devices (Blue, Black)',\n",
       "  'Big Foot Mini Monster Truck']}"
      ]
     },
     "execution_count": 25,
     "metadata": {},
     "output_type": "execute_result"
    }
   ],
   "source": [
    "scraper.get_result_similar(url, grouped = True)"
   ]
  },
  {
   "cell_type": "code",
   "execution_count": 26,
   "id": "2439a914",
   "metadata": {},
   "outputs": [],
   "source": [
    "import pandas as pd"
   ]
  },
  {
   "cell_type": "code",
   "execution_count": null,
   "id": "b3ead195",
   "metadata": {},
   "outputs": [],
   "source": [
    "ply = {playstation_list}"
   ]
  }
 ],
 "metadata": {
  "kernelspec": {
   "display_name": "Python 3 (ipykernel)",
   "language": "python",
   "name": "python3"
  },
  "language_info": {
   "codemirror_mode": {
    "name": "ipython",
    "version": 3
   },
   "file_extension": ".py",
   "mimetype": "text/x-python",
   "name": "python",
   "nbconvert_exporter": "python",
   "pygments_lexer": "ipython3",
   "version": "3.9.7"
  }
 },
 "nbformat": 4,
 "nbformat_minor": 5
}
