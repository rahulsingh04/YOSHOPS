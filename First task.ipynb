{
 "cells": [
  {
   "cell_type": "code",
   "execution_count": 2,
   "id": "8cecb46d",
   "metadata": {},
   "outputs": [],
   "source": [
    "from autoscraper import AutoScraper"
   ]
  },
  {
   "cell_type": "code",
   "execution_count": 6,
   "id": "cda5bc10",
   "metadata": {},
   "outputs": [],
   "source": [
    "url = \"https://yoshops.com/t/seafood\"\n",
    "wanted_list = [\"₹59.00\" , \"River Prawn Small- 4cm 250gm(Berhampur)\"]\n",
    "scraper = AutoScraper()\n",
    "result = scraper.build(url, wanted_list)"
   ]
  },
  {
   "cell_type": "code",
   "execution_count": 7,
   "id": "ae9fe61d",
   "metadata": {},
   "outputs": [
    {
     "data": {
      "text/plain": [
       "({'rule_7ot0': ['₹59.00',\n",
       "   '₹149.00',\n",
       "   '₹269.00',\n",
       "   '₹149.00',\n",
       "   '₹269.00',\n",
       "   '₹99.00',\n",
       "   '₹79.00',\n",
       "   '₹199.00',\n",
       "   '₹159.00',\n",
       "   '₹99.00'],\n",
       "  'rule_82tr': ['River Prawn Small- 4cm 250gm(Berhampur)',\n",
       "   'Rohu River Fish Raw 1Kg(Berhampur)',\n",
       "   'Rohu River Fish Cutting(No Head) 1Kg(Berhampur)',\n",
       "   'Vakura Catla River Fish Raw 1Kg(Berhampur)',\n",
       "   'Vakura Catla River Fish Cutting(No Head) 1Kg(Berhampur)',\n",
       "   'River Prawn Raw Big-12cm 250gm(Berhampur)',\n",
       "   'River Prawn Raw Middium- 6cm 250gm(Berhampur)',\n",
       "   'River Prawn Raw Big-12cm 500gm(Berhampur)',\n",
       "   'River Prawn Raw Middium- 6cm 500gm(Berhampur)',\n",
       "   'River Prawn Small- 4cm 500gm(Berhampur)'],\n",
       "  'rule_dlqj': ['River Prawn Small- 4cm 250gm(Berhampur)',\n",
       "   'Rohu River Fish Raw 1Kg(Berhampur)',\n",
       "   'Rohu River Fish Cutting(No Head) 1Kg(Berhampur)',\n",
       "   'Vakura Catla River Fish Raw 1Kg(Berhampur)',\n",
       "   'Vakura Catla River Fish Cutting(No Head) 1Kg(Berhampur)',\n",
       "   'River Prawn Raw Big-12cm 250gm(Berhampur)',\n",
       "   'River Prawn Raw Middium- 6cm 250gm(Berhampur)',\n",
       "   'River Prawn Raw Big-12cm 500gm(Berhampur)',\n",
       "   'River Prawn Raw Middium- 6cm 500gm(Berhampur)',\n",
       "   'River Prawn Small- 4cm 500gm(Berhampur)'],\n",
       "  'rule_7jia': ['River Prawn Small- 4cm 250gm(Berhampur)',\n",
       "   'Rohu River Fish Raw 1Kg(Berhampur)',\n",
       "   'Rohu River Fish Cutting(No Head) 1Kg(Berhampur)',\n",
       "   'Vakura Catla River Fish Raw 1Kg(Berhampur)',\n",
       "   'Vakura Catla River Fish Cutting(No Head) 1Kg(Berhampur)',\n",
       "   'River Prawn Raw Big-12cm 250gm(Berhampur)',\n",
       "   'River Prawn Raw Middium- 6cm 250gm(Berhampur)',\n",
       "   'River Prawn Raw Big-12cm 500gm(Berhampur)',\n",
       "   'River Prawn Raw Middium- 6cm 500gm(Berhampur)',\n",
       "   'River Prawn Small- 4cm 500gm(Berhampur)']},\n",
       " {'rule_7ot0': ['₹59.00'],\n",
       "  'rule_82tr': ['River Prawn Small- 4cm 250gm(Berhampur)'],\n",
       "  'rule_dlqj': ['River Prawn Small- 4cm 250gm(Berhampur)'],\n",
       "  'rule_7jia': ['River Prawn Small- 4cm 250gm(Berhampur)']})"
      ]
     },
     "execution_count": 7,
     "metadata": {},
     "output_type": "execute_result"
    }
   ],
   "source": [
    "scraper.get_result(url , grouped = True)"
   ]
  },
  {
   "cell_type": "code",
   "execution_count": 8,
   "id": "07e38e8a",
   "metadata": {},
   "outputs": [],
   "source": [
    "#### Now fetch the price and the details of the seafood webpage\n",
    "\n",
    "\n",
    "\n",
    "scraper.set_rule_aliases({\"rule_7ot0\": \"Price\" , \"rule_82tr\":\"Title\"})\n",
    "scraper.keep_rules([\"rule_7ot0\" ,  \"rule_82tr\"])\n",
    "scraper.save(\"Price and Title\")"
   ]
  },
  {
   "cell_type": "code",
   "execution_count": null,
   "id": "da482ddb",
   "metadata": {},
   "outputs": [],
   "source": []
  },
  {
   "cell_type": "code",
   "execution_count": 9,
   "id": "21df8cf6",
   "metadata": {},
   "outputs": [],
   "source": [
    "scraper.load('first')\n"
   ]
  },
  {
   "cell_type": "code",
   "execution_count": 10,
   "id": "22b81d56",
   "metadata": {},
   "outputs": [],
   "source": [
    "result=scraper.get_result_similar(\"https://yoshops.com/t/seafood\",group_by_alias=True)\n"
   ]
  },
  {
   "cell_type": "code",
   "execution_count": 11,
   "id": "888b6c99",
   "metadata": {},
   "outputs": [
    {
     "name": "stdout",
     "output_type": "stream",
     "text": [
      "['River Prawn Small- 4cm 250gm(Berhampur)', 'Rohu River Fish Raw 1Kg(Berhampur)', 'Rohu River Fish Cutting(No Head) 1Kg(Berhampur)', 'Vakura Catla River Fish Raw 1Kg(Berhampur)', 'Vakura Catla River Fish Cutting(No Head) 1Kg(Berhampur)', 'River Prawn Raw Big-12cm 250gm(Berhampur)', 'River Prawn Raw Middium- 6cm 250gm(Berhampur)', 'River Prawn Raw Big-12cm 500gm(Berhampur)', 'River Prawn Raw Middium- 6cm 500gm(Berhampur)', 'River Prawn Small- 4cm 500gm(Berhampur)']\n",
      "\n",
      "-------------------------------------------------------------------------------------------------------------------------------\n",
      "['₹59.00', '₹149.00', '₹269.00', '₹149.00', '₹269.00', '₹99.00', '₹79.00', '₹199.00', '₹159.00', '₹99.00']\n"
     ]
    }
   ],
   "source": [
    "print(result[\"Title\"])   ####For fetching the title\n",
    "print()              \n",
    "print(\"-\"*127)\n",
    "print(result[\"Price\"])   ### For fetching the price\n"
   ]
  },
  {
   "cell_type": "code",
   "execution_count": null,
   "id": "6ee48e2e",
   "metadata": {},
   "outputs": [],
   "source": []
  },
  {
   "cell_type": "code",
   "execution_count": null,
   "id": "c4c4f0b7",
   "metadata": {},
   "outputs": [],
   "source": []
  },
  {
   "cell_type": "code",
   "execution_count": null,
   "id": "ee09d4ec",
   "metadata": {},
   "outputs": [],
   "source": []
  },
  {
   "cell_type": "code",
   "execution_count": 12,
   "id": "46b25279",
   "metadata": {},
   "outputs": [
    {
     "name": "stdout",
     "output_type": "stream",
     "text": [
      "https://yoshops.com//t/seafood\n"
     ]
    }
   ],
   "source": [
    "#######   NOW FOR THE IMAGE\n",
    "\n",
    "from autoscraper import AutoScraper\n",
    "import pandas as pd\n",
    "search = \"/t/seafood\"\n",
    "yoshops_url = \"https://yoshops.com/{}\".format(search)\n",
    "print(yoshops_url)\n"
   ]
  },
  {
   "cell_type": "code",
   "execution_count": 13,
   "id": "8c0f0185",
   "metadata": {},
   "outputs": [],
   "source": [
    "# Defining what data we want \n",
    "wanted_list=[\"//onlinestore.wsimg.com/assets/noimage/product-5fec99477aebb10bac85d82665ec1497de4536cda3279e59089555c45cf589fa.png\" , \"₹59.00\" ,\n",
    "             \"River Prawn Small- 4cm 250gm(Berhampur)\"]\n",
    "\n",
    "# In our wanted list we have Image , Price and the title"
   ]
  },
  {
   "cell_type": "code",
   "execution_count": null,
   "id": "c1778b8c",
   "metadata": {},
   "outputs": [],
   "source": [
    "print(result[\"Price\"])   ### For fetching the price\n"
   ]
  },
  {
   "cell_type": "code",
   "execution_count": 32,
   "id": "e3237123",
   "metadata": {},
   "outputs": [
    {
     "ename": "TypeError",
     "evalue": "list indices must be integers or slices, not str",
     "output_type": "error",
     "traceback": [
      "\u001b[1;31m---------------------------------------------------------------------------\u001b[0m",
      "\u001b[1;31mTypeError\u001b[0m                                 Traceback (most recent call last)",
      "\u001b[1;32mC:\\Users\\RAHULS~1\\AppData\\Local\\Temp/ipykernel_13708/3337930086.py\u001b[0m in \u001b[0;36m<module>\u001b[1;34m\u001b[0m\n\u001b[1;32m----> 1\u001b[1;33m \u001b[0mprint\u001b[0m\u001b[1;33m(\u001b[0m\u001b[0mresult\u001b[0m\u001b[1;33m[\u001b[0m\u001b[1;34m'Imageurl'\u001b[0m\u001b[1;33m]\u001b[0m\u001b[1;33m)\u001b[0m\u001b[1;33m\u001b[0m\u001b[1;33m\u001b[0m\u001b[0m\n\u001b[0m",
      "\u001b[1;31mTypeError\u001b[0m: list indices must be integers or slices, not str"
     ]
    }
   ],
   "source": [
    "print(result['Imageurl'])"
   ]
  },
  {
   "cell_type": "markdown",
   "id": "f9d2dbc8",
   "metadata": {},
   "source": [
    "### Creating the scrapping object"
   ]
  },
  {
   "cell_type": "code",
   "execution_count": 14,
   "id": "2800be0e",
   "metadata": {},
   "outputs": [],
   "source": [
    "scraper = AutoScraper()\n",
    "result = scraper.build(yoshops_url, wanted_list)"
   ]
  },
  {
   "cell_type": "code",
   "execution_count": 15,
   "id": "871d01a3",
   "metadata": {},
   "outputs": [
    {
     "name": "stdout",
     "output_type": "stream",
     "text": [
      "{'rule_il33': ['//onlinestore.wsimg.com/assets/noimage/product-5fec99477aebb10bac85d82665ec1497de4536cda3279e59089555c45cf589fa.png', '//onlinestore.wsimg.com/assets/noimage/product-5fec99477aebb10bac85d82665ec1497de4536cda3279e59089555c45cf589fa.png', '//onlinestore.wsimg.com/assets/noimage/product-5fec99477aebb10bac85d82665ec1497de4536cda3279e59089555c45cf589fa.png', '//onlinestore.wsimg.com/assets/noimage/product-5fec99477aebb10bac85d82665ec1497de4536cda3279e59089555c45cf589fa.png', 'https://isteam.wsimg.com/ip/a8efe83b-6857-477d-9d0f-f13ca0229a20/ols/3398_original/:/rs=w:600,h:600', '//onlinestore.wsimg.com/assets/noimage/product-5fec99477aebb10bac85d82665ec1497de4536cda3279e59089555c45cf589fa.png', '//onlinestore.wsimg.com/assets/noimage/product-5fec99477aebb10bac85d82665ec1497de4536cda3279e59089555c45cf589fa.png', '//onlinestore.wsimg.com/assets/noimage/product-5fec99477aebb10bac85d82665ec1497de4536cda3279e59089555c45cf589fa.png', '//onlinestore.wsimg.com/assets/noimage/product-5fec99477aebb10bac85d82665ec1497de4536cda3279e59089555c45cf589fa.png', '//onlinestore.wsimg.com/assets/noimage/product-5fec99477aebb10bac85d82665ec1497de4536cda3279e59089555c45cf589fa.png'], 'rule_1x9h': ['//onlinestore.wsimg.com/assets/noimage/product-5fec99477aebb10bac85d82665ec1497de4536cda3279e59089555c45cf589fa.png', '//onlinestore.wsimg.com/assets/noimage/product-5fec99477aebb10bac85d82665ec1497de4536cda3279e59089555c45cf589fa.png', '//onlinestore.wsimg.com/assets/noimage/product-5fec99477aebb10bac85d82665ec1497de4536cda3279e59089555c45cf589fa.png', '//onlinestore.wsimg.com/assets/noimage/product-5fec99477aebb10bac85d82665ec1497de4536cda3279e59089555c45cf589fa.png', 'https://isteam.wsimg.com/ip/a8efe83b-6857-477d-9d0f-f13ca0229a20/ols/3398_original/:/rs=w:600,h:600', '//onlinestore.wsimg.com/assets/noimage/product-5fec99477aebb10bac85d82665ec1497de4536cda3279e59089555c45cf589fa.png', '//onlinestore.wsimg.com/assets/noimage/product-5fec99477aebb10bac85d82665ec1497de4536cda3279e59089555c45cf589fa.png', '//onlinestore.wsimg.com/assets/noimage/product-5fec99477aebb10bac85d82665ec1497de4536cda3279e59089555c45cf589fa.png', '//onlinestore.wsimg.com/assets/noimage/product-5fec99477aebb10bac85d82665ec1497de4536cda3279e59089555c45cf589fa.png', '//onlinestore.wsimg.com/assets/noimage/product-5fec99477aebb10bac85d82665ec1497de4536cda3279e59089555c45cf589fa.png'], 'rule_wtvq': ['//onlinestore.wsimg.com/assets/noimage/product-5fec99477aebb10bac85d82665ec1497de4536cda3279e59089555c45cf589fa.png', '//onlinestore.wsimg.com/assets/noimage/product-5fec99477aebb10bac85d82665ec1497de4536cda3279e59089555c45cf589fa.png', '//onlinestore.wsimg.com/assets/noimage/product-5fec99477aebb10bac85d82665ec1497de4536cda3279e59089555c45cf589fa.png', '//onlinestore.wsimg.com/assets/noimage/product-5fec99477aebb10bac85d82665ec1497de4536cda3279e59089555c45cf589fa.png', 'https://isteam.wsimg.com/ip/a8efe83b-6857-477d-9d0f-f13ca0229a20/ols/3398_original/:/rs=w:600,h:600', '//onlinestore.wsimg.com/assets/noimage/product-5fec99477aebb10bac85d82665ec1497de4536cda3279e59089555c45cf589fa.png', '//onlinestore.wsimg.com/assets/noimage/product-5fec99477aebb10bac85d82665ec1497de4536cda3279e59089555c45cf589fa.png', '//onlinestore.wsimg.com/assets/noimage/product-5fec99477aebb10bac85d82665ec1497de4536cda3279e59089555c45cf589fa.png', '//onlinestore.wsimg.com/assets/noimage/product-5fec99477aebb10bac85d82665ec1497de4536cda3279e59089555c45cf589fa.png', '//onlinestore.wsimg.com/assets/noimage/product-5fec99477aebb10bac85d82665ec1497de4536cda3279e59089555c45cf589fa.png'], 'rule_t24e': ['//onlinestore.wsimg.com/assets/noimage/product-5fec99477aebb10bac85d82665ec1497de4536cda3279e59089555c45cf589fa.png', '//onlinestore.wsimg.com/assets/noimage/product-5fec99477aebb10bac85d82665ec1497de4536cda3279e59089555c45cf589fa.png', '//onlinestore.wsimg.com/assets/noimage/product-5fec99477aebb10bac85d82665ec1497de4536cda3279e59089555c45cf589fa.png', '//onlinestore.wsimg.com/assets/noimage/product-5fec99477aebb10bac85d82665ec1497de4536cda3279e59089555c45cf589fa.png', 'https://isteam.wsimg.com/ip/a8efe83b-6857-477d-9d0f-f13ca0229a20/ols/3398_original/:/rs=w:600,h:600', '//onlinestore.wsimg.com/assets/noimage/product-5fec99477aebb10bac85d82665ec1497de4536cda3279e59089555c45cf589fa.png', '//onlinestore.wsimg.com/assets/noimage/product-5fec99477aebb10bac85d82665ec1497de4536cda3279e59089555c45cf589fa.png', '//onlinestore.wsimg.com/assets/noimage/product-5fec99477aebb10bac85d82665ec1497de4536cda3279e59089555c45cf589fa.png', '//onlinestore.wsimg.com/assets/noimage/product-5fec99477aebb10bac85d82665ec1497de4536cda3279e59089555c45cf589fa.png', '//onlinestore.wsimg.com/assets/noimage/product-5fec99477aebb10bac85d82665ec1497de4536cda3279e59089555c45cf589fa.png'], 'rule_ys1s': ['//onlinestore.wsimg.com/assets/noimage/product-5fec99477aebb10bac85d82665ec1497de4536cda3279e59089555c45cf589fa.png', '//onlinestore.wsimg.com/assets/noimage/product-5fec99477aebb10bac85d82665ec1497de4536cda3279e59089555c45cf589fa.png', '//onlinestore.wsimg.com/assets/noimage/product-5fec99477aebb10bac85d82665ec1497de4536cda3279e59089555c45cf589fa.png', '//onlinestore.wsimg.com/assets/noimage/product-5fec99477aebb10bac85d82665ec1497de4536cda3279e59089555c45cf589fa.png', 'https://isteam.wsimg.com/ip/a8efe83b-6857-477d-9d0f-f13ca0229a20/ols/3398_original/:/rs=w:600,h:600', '//onlinestore.wsimg.com/assets/noimage/product-5fec99477aebb10bac85d82665ec1497de4536cda3279e59089555c45cf589fa.png', '//onlinestore.wsimg.com/assets/noimage/product-5fec99477aebb10bac85d82665ec1497de4536cda3279e59089555c45cf589fa.png', '//onlinestore.wsimg.com/assets/noimage/product-5fec99477aebb10bac85d82665ec1497de4536cda3279e59089555c45cf589fa.png', '//onlinestore.wsimg.com/assets/noimage/product-5fec99477aebb10bac85d82665ec1497de4536cda3279e59089555c45cf589fa.png', '//onlinestore.wsimg.com/assets/noimage/product-5fec99477aebb10bac85d82665ec1497de4536cda3279e59089555c45cf589fa.png'], 'rule_an0i': ['//onlinestore.wsimg.com/assets/noimage/product-5fec99477aebb10bac85d82665ec1497de4536cda3279e59089555c45cf589fa.png', '//onlinestore.wsimg.com/assets/noimage/product-5fec99477aebb10bac85d82665ec1497de4536cda3279e59089555c45cf589fa.png', '//onlinestore.wsimg.com/assets/noimage/product-5fec99477aebb10bac85d82665ec1497de4536cda3279e59089555c45cf589fa.png', '//onlinestore.wsimg.com/assets/noimage/product-5fec99477aebb10bac85d82665ec1497de4536cda3279e59089555c45cf589fa.png', 'https://isteam.wsimg.com/ip/a8efe83b-6857-477d-9d0f-f13ca0229a20/ols/3398_original/:/rs=w:600,h:600', '//onlinestore.wsimg.com/assets/noimage/product-5fec99477aebb10bac85d82665ec1497de4536cda3279e59089555c45cf589fa.png', '//onlinestore.wsimg.com/assets/noimage/product-5fec99477aebb10bac85d82665ec1497de4536cda3279e59089555c45cf589fa.png', '//onlinestore.wsimg.com/assets/noimage/product-5fec99477aebb10bac85d82665ec1497de4536cda3279e59089555c45cf589fa.png', '//onlinestore.wsimg.com/assets/noimage/product-5fec99477aebb10bac85d82665ec1497de4536cda3279e59089555c45cf589fa.png', '//onlinestore.wsimg.com/assets/noimage/product-5fec99477aebb10bac85d82665ec1497de4536cda3279e59089555c45cf589fa.png'], 'rule_qsl7': ['//onlinestore.wsimg.com/assets/noimage/product-5fec99477aebb10bac85d82665ec1497de4536cda3279e59089555c45cf589fa.png', '//onlinestore.wsimg.com/assets/noimage/product-5fec99477aebb10bac85d82665ec1497de4536cda3279e59089555c45cf589fa.png', '//onlinestore.wsimg.com/assets/noimage/product-5fec99477aebb10bac85d82665ec1497de4536cda3279e59089555c45cf589fa.png', '//onlinestore.wsimg.com/assets/noimage/product-5fec99477aebb10bac85d82665ec1497de4536cda3279e59089555c45cf589fa.png', 'https://isteam.wsimg.com/ip/a8efe83b-6857-477d-9d0f-f13ca0229a20/ols/3398_original/:/rs=w:600,h:600', '//onlinestore.wsimg.com/assets/noimage/product-5fec99477aebb10bac85d82665ec1497de4536cda3279e59089555c45cf589fa.png', '//onlinestore.wsimg.com/assets/noimage/product-5fec99477aebb10bac85d82665ec1497de4536cda3279e59089555c45cf589fa.png', '//onlinestore.wsimg.com/assets/noimage/product-5fec99477aebb10bac85d82665ec1497de4536cda3279e59089555c45cf589fa.png', '//onlinestore.wsimg.com/assets/noimage/product-5fec99477aebb10bac85d82665ec1497de4536cda3279e59089555c45cf589fa.png', '//onlinestore.wsimg.com/assets/noimage/product-5fec99477aebb10bac85d82665ec1497de4536cda3279e59089555c45cf589fa.png'], 'rule_pbov': ['//onlinestore.wsimg.com/assets/noimage/product-5fec99477aebb10bac85d82665ec1497de4536cda3279e59089555c45cf589fa.png', '//onlinestore.wsimg.com/assets/noimage/product-5fec99477aebb10bac85d82665ec1497de4536cda3279e59089555c45cf589fa.png', '//onlinestore.wsimg.com/assets/noimage/product-5fec99477aebb10bac85d82665ec1497de4536cda3279e59089555c45cf589fa.png', '//onlinestore.wsimg.com/assets/noimage/product-5fec99477aebb10bac85d82665ec1497de4536cda3279e59089555c45cf589fa.png', 'https://isteam.wsimg.com/ip/a8efe83b-6857-477d-9d0f-f13ca0229a20/ols/3398_original/:/rs=w:600,h:600', '//onlinestore.wsimg.com/assets/noimage/product-5fec99477aebb10bac85d82665ec1497de4536cda3279e59089555c45cf589fa.png', '//onlinestore.wsimg.com/assets/noimage/product-5fec99477aebb10bac85d82665ec1497de4536cda3279e59089555c45cf589fa.png', '//onlinestore.wsimg.com/assets/noimage/product-5fec99477aebb10bac85d82665ec1497de4536cda3279e59089555c45cf589fa.png', '//onlinestore.wsimg.com/assets/noimage/product-5fec99477aebb10bac85d82665ec1497de4536cda3279e59089555c45cf589fa.png', '//onlinestore.wsimg.com/assets/noimage/product-5fec99477aebb10bac85d82665ec1497de4536cda3279e59089555c45cf589fa.png'], 'rule_45zq': ['//onlinestore.wsimg.com/assets/noimage/product-5fec99477aebb10bac85d82665ec1497de4536cda3279e59089555c45cf589fa.png', '//onlinestore.wsimg.com/assets/noimage/product-5fec99477aebb10bac85d82665ec1497de4536cda3279e59089555c45cf589fa.png', '//onlinestore.wsimg.com/assets/noimage/product-5fec99477aebb10bac85d82665ec1497de4536cda3279e59089555c45cf589fa.png', '//onlinestore.wsimg.com/assets/noimage/product-5fec99477aebb10bac85d82665ec1497de4536cda3279e59089555c45cf589fa.png', 'https://isteam.wsimg.com/ip/a8efe83b-6857-477d-9d0f-f13ca0229a20/ols/3398_original/:/rs=w:600,h:600', '//onlinestore.wsimg.com/assets/noimage/product-5fec99477aebb10bac85d82665ec1497de4536cda3279e59089555c45cf589fa.png', '//onlinestore.wsimg.com/assets/noimage/product-5fec99477aebb10bac85d82665ec1497de4536cda3279e59089555c45cf589fa.png', '//onlinestore.wsimg.com/assets/noimage/product-5fec99477aebb10bac85d82665ec1497de4536cda3279e59089555c45cf589fa.png', '//onlinestore.wsimg.com/assets/noimage/product-5fec99477aebb10bac85d82665ec1497de4536cda3279e59089555c45cf589fa.png', '//onlinestore.wsimg.com/assets/noimage/product-5fec99477aebb10bac85d82665ec1497de4536cda3279e59089555c45cf589fa.png'], 'rule_wgda': ['₹59.00', '₹149.00', '₹269.00', '₹149.00', '₹269.00', '₹99.00', '₹79.00', '₹199.00', '₹159.00', '₹99.00'], 'rule_wyue': ['River Prawn Small- 4cm 250gm(Berhampur)', 'Rohu River Fish Raw 1Kg(Berhampur)', 'Rohu River Fish Cutting(No Head) 1Kg(Berhampur)', 'Vakura Catla River Fish Raw 1Kg(Berhampur)', 'Vakura Catla River Fish Cutting(No Head) 1Kg(Berhampur)', 'River Prawn Raw Big-12cm 250gm(Berhampur)', 'River Prawn Raw Middium- 6cm 250gm(Berhampur)', 'River Prawn Raw Big-12cm 500gm(Berhampur)', 'River Prawn Raw Middium- 6cm 500gm(Berhampur)', 'River Prawn Small- 4cm 500gm(Berhampur)'], 'rule_h11o': ['River Prawn Small- 4cm 250gm(Berhampur)', 'Rohu River Fish Raw 1Kg(Berhampur)', 'Rohu River Fish Cutting(No Head) 1Kg(Berhampur)', 'Vakura Catla River Fish Raw 1Kg(Berhampur)', 'Vakura Catla River Fish Cutting(No Head) 1Kg(Berhampur)', 'River Prawn Raw Big-12cm 250gm(Berhampur)', 'River Prawn Raw Middium- 6cm 250gm(Berhampur)', 'River Prawn Raw Big-12cm 500gm(Berhampur)', 'River Prawn Raw Middium- 6cm 500gm(Berhampur)', 'River Prawn Small- 4cm 500gm(Berhampur)'], 'rule_foku': ['River Prawn Small- 4cm 250gm(Berhampur)', 'Rohu River Fish Raw 1Kg(Berhampur)', 'Rohu River Fish Cutting(No Head) 1Kg(Berhampur)', 'Vakura Catla River Fish Raw 1Kg(Berhampur)', 'Vakura Catla River Fish Cutting(No Head) 1Kg(Berhampur)', 'River Prawn Raw Big-12cm 250gm(Berhampur)', 'River Prawn Raw Middium- 6cm 250gm(Berhampur)', 'River Prawn Raw Big-12cm 500gm(Berhampur)', 'River Prawn Raw Middium- 6cm 500gm(Berhampur)', 'River Prawn Small- 4cm 500gm(Berhampur)']}\n"
     ]
    }
   ],
   "source": [
    "# data = scraper.get_result_similar(amazon_url,grouped=True)\n",
    "# print(data)\n",
    "data = scraper.get_result_similar(yoshops_url, grouped = True)\n",
    "print(data)"
   ]
  },
  {
   "cell_type": "code",
   "execution_count": 17,
   "id": "d2bdc15a",
   "metadata": {},
   "outputs": [
    {
     "data": {
      "text/plain": [
       "{'rule_il33': ['//onlinestore.wsimg.com/assets/noimage/product-5fec99477aebb10bac85d82665ec1497de4536cda3279e59089555c45cf589fa.png',\n",
       "  '//onlinestore.wsimg.com/assets/noimage/product-5fec99477aebb10bac85d82665ec1497de4536cda3279e59089555c45cf589fa.png',\n",
       "  '//onlinestore.wsimg.com/assets/noimage/product-5fec99477aebb10bac85d82665ec1497de4536cda3279e59089555c45cf589fa.png',\n",
       "  '//onlinestore.wsimg.com/assets/noimage/product-5fec99477aebb10bac85d82665ec1497de4536cda3279e59089555c45cf589fa.png',\n",
       "  'https://isteam.wsimg.com/ip/a8efe83b-6857-477d-9d0f-f13ca0229a20/ols/3398_original/:/rs=w:600,h:600',\n",
       "  '//onlinestore.wsimg.com/assets/noimage/product-5fec99477aebb10bac85d82665ec1497de4536cda3279e59089555c45cf589fa.png',\n",
       "  '//onlinestore.wsimg.com/assets/noimage/product-5fec99477aebb10bac85d82665ec1497de4536cda3279e59089555c45cf589fa.png',\n",
       "  '//onlinestore.wsimg.com/assets/noimage/product-5fec99477aebb10bac85d82665ec1497de4536cda3279e59089555c45cf589fa.png',\n",
       "  '//onlinestore.wsimg.com/assets/noimage/product-5fec99477aebb10bac85d82665ec1497de4536cda3279e59089555c45cf589fa.png',\n",
       "  '//onlinestore.wsimg.com/assets/noimage/product-5fec99477aebb10bac85d82665ec1497de4536cda3279e59089555c45cf589fa.png'],\n",
       " 'rule_1x9h': ['//onlinestore.wsimg.com/assets/noimage/product-5fec99477aebb10bac85d82665ec1497de4536cda3279e59089555c45cf589fa.png',\n",
       "  '//onlinestore.wsimg.com/assets/noimage/product-5fec99477aebb10bac85d82665ec1497de4536cda3279e59089555c45cf589fa.png',\n",
       "  '//onlinestore.wsimg.com/assets/noimage/product-5fec99477aebb10bac85d82665ec1497de4536cda3279e59089555c45cf589fa.png',\n",
       "  '//onlinestore.wsimg.com/assets/noimage/product-5fec99477aebb10bac85d82665ec1497de4536cda3279e59089555c45cf589fa.png',\n",
       "  'https://isteam.wsimg.com/ip/a8efe83b-6857-477d-9d0f-f13ca0229a20/ols/3398_original/:/rs=w:600,h:600',\n",
       "  '//onlinestore.wsimg.com/assets/noimage/product-5fec99477aebb10bac85d82665ec1497de4536cda3279e59089555c45cf589fa.png',\n",
       "  '//onlinestore.wsimg.com/assets/noimage/product-5fec99477aebb10bac85d82665ec1497de4536cda3279e59089555c45cf589fa.png',\n",
       "  '//onlinestore.wsimg.com/assets/noimage/product-5fec99477aebb10bac85d82665ec1497de4536cda3279e59089555c45cf589fa.png',\n",
       "  '//onlinestore.wsimg.com/assets/noimage/product-5fec99477aebb10bac85d82665ec1497de4536cda3279e59089555c45cf589fa.png',\n",
       "  '//onlinestore.wsimg.com/assets/noimage/product-5fec99477aebb10bac85d82665ec1497de4536cda3279e59089555c45cf589fa.png'],\n",
       " 'rule_wtvq': ['//onlinestore.wsimg.com/assets/noimage/product-5fec99477aebb10bac85d82665ec1497de4536cda3279e59089555c45cf589fa.png',\n",
       "  '//onlinestore.wsimg.com/assets/noimage/product-5fec99477aebb10bac85d82665ec1497de4536cda3279e59089555c45cf589fa.png',\n",
       "  '//onlinestore.wsimg.com/assets/noimage/product-5fec99477aebb10bac85d82665ec1497de4536cda3279e59089555c45cf589fa.png',\n",
       "  '//onlinestore.wsimg.com/assets/noimage/product-5fec99477aebb10bac85d82665ec1497de4536cda3279e59089555c45cf589fa.png',\n",
       "  'https://isteam.wsimg.com/ip/a8efe83b-6857-477d-9d0f-f13ca0229a20/ols/3398_original/:/rs=w:600,h:600',\n",
       "  '//onlinestore.wsimg.com/assets/noimage/product-5fec99477aebb10bac85d82665ec1497de4536cda3279e59089555c45cf589fa.png',\n",
       "  '//onlinestore.wsimg.com/assets/noimage/product-5fec99477aebb10bac85d82665ec1497de4536cda3279e59089555c45cf589fa.png',\n",
       "  '//onlinestore.wsimg.com/assets/noimage/product-5fec99477aebb10bac85d82665ec1497de4536cda3279e59089555c45cf589fa.png',\n",
       "  '//onlinestore.wsimg.com/assets/noimage/product-5fec99477aebb10bac85d82665ec1497de4536cda3279e59089555c45cf589fa.png',\n",
       "  '//onlinestore.wsimg.com/assets/noimage/product-5fec99477aebb10bac85d82665ec1497de4536cda3279e59089555c45cf589fa.png'],\n",
       " 'rule_t24e': ['//onlinestore.wsimg.com/assets/noimage/product-5fec99477aebb10bac85d82665ec1497de4536cda3279e59089555c45cf589fa.png',\n",
       "  '//onlinestore.wsimg.com/assets/noimage/product-5fec99477aebb10bac85d82665ec1497de4536cda3279e59089555c45cf589fa.png',\n",
       "  '//onlinestore.wsimg.com/assets/noimage/product-5fec99477aebb10bac85d82665ec1497de4536cda3279e59089555c45cf589fa.png',\n",
       "  '//onlinestore.wsimg.com/assets/noimage/product-5fec99477aebb10bac85d82665ec1497de4536cda3279e59089555c45cf589fa.png',\n",
       "  'https://isteam.wsimg.com/ip/a8efe83b-6857-477d-9d0f-f13ca0229a20/ols/3398_original/:/rs=w:600,h:600',\n",
       "  '//onlinestore.wsimg.com/assets/noimage/product-5fec99477aebb10bac85d82665ec1497de4536cda3279e59089555c45cf589fa.png',\n",
       "  '//onlinestore.wsimg.com/assets/noimage/product-5fec99477aebb10bac85d82665ec1497de4536cda3279e59089555c45cf589fa.png',\n",
       "  '//onlinestore.wsimg.com/assets/noimage/product-5fec99477aebb10bac85d82665ec1497de4536cda3279e59089555c45cf589fa.png',\n",
       "  '//onlinestore.wsimg.com/assets/noimage/product-5fec99477aebb10bac85d82665ec1497de4536cda3279e59089555c45cf589fa.png',\n",
       "  '//onlinestore.wsimg.com/assets/noimage/product-5fec99477aebb10bac85d82665ec1497de4536cda3279e59089555c45cf589fa.png'],\n",
       " 'rule_ys1s': ['//onlinestore.wsimg.com/assets/noimage/product-5fec99477aebb10bac85d82665ec1497de4536cda3279e59089555c45cf589fa.png',\n",
       "  '//onlinestore.wsimg.com/assets/noimage/product-5fec99477aebb10bac85d82665ec1497de4536cda3279e59089555c45cf589fa.png',\n",
       "  '//onlinestore.wsimg.com/assets/noimage/product-5fec99477aebb10bac85d82665ec1497de4536cda3279e59089555c45cf589fa.png',\n",
       "  '//onlinestore.wsimg.com/assets/noimage/product-5fec99477aebb10bac85d82665ec1497de4536cda3279e59089555c45cf589fa.png',\n",
       "  'https://isteam.wsimg.com/ip/a8efe83b-6857-477d-9d0f-f13ca0229a20/ols/3398_original/:/rs=w:600,h:600',\n",
       "  '//onlinestore.wsimg.com/assets/noimage/product-5fec99477aebb10bac85d82665ec1497de4536cda3279e59089555c45cf589fa.png',\n",
       "  '//onlinestore.wsimg.com/assets/noimage/product-5fec99477aebb10bac85d82665ec1497de4536cda3279e59089555c45cf589fa.png',\n",
       "  '//onlinestore.wsimg.com/assets/noimage/product-5fec99477aebb10bac85d82665ec1497de4536cda3279e59089555c45cf589fa.png',\n",
       "  '//onlinestore.wsimg.com/assets/noimage/product-5fec99477aebb10bac85d82665ec1497de4536cda3279e59089555c45cf589fa.png',\n",
       "  '//onlinestore.wsimg.com/assets/noimage/product-5fec99477aebb10bac85d82665ec1497de4536cda3279e59089555c45cf589fa.png'],\n",
       " 'rule_an0i': ['//onlinestore.wsimg.com/assets/noimage/product-5fec99477aebb10bac85d82665ec1497de4536cda3279e59089555c45cf589fa.png',\n",
       "  '//onlinestore.wsimg.com/assets/noimage/product-5fec99477aebb10bac85d82665ec1497de4536cda3279e59089555c45cf589fa.png',\n",
       "  '//onlinestore.wsimg.com/assets/noimage/product-5fec99477aebb10bac85d82665ec1497de4536cda3279e59089555c45cf589fa.png',\n",
       "  '//onlinestore.wsimg.com/assets/noimage/product-5fec99477aebb10bac85d82665ec1497de4536cda3279e59089555c45cf589fa.png',\n",
       "  'https://isteam.wsimg.com/ip/a8efe83b-6857-477d-9d0f-f13ca0229a20/ols/3398_original/:/rs=w:600,h:600',\n",
       "  '//onlinestore.wsimg.com/assets/noimage/product-5fec99477aebb10bac85d82665ec1497de4536cda3279e59089555c45cf589fa.png',\n",
       "  '//onlinestore.wsimg.com/assets/noimage/product-5fec99477aebb10bac85d82665ec1497de4536cda3279e59089555c45cf589fa.png',\n",
       "  '//onlinestore.wsimg.com/assets/noimage/product-5fec99477aebb10bac85d82665ec1497de4536cda3279e59089555c45cf589fa.png',\n",
       "  '//onlinestore.wsimg.com/assets/noimage/product-5fec99477aebb10bac85d82665ec1497de4536cda3279e59089555c45cf589fa.png',\n",
       "  '//onlinestore.wsimg.com/assets/noimage/product-5fec99477aebb10bac85d82665ec1497de4536cda3279e59089555c45cf589fa.png'],\n",
       " 'rule_qsl7': ['//onlinestore.wsimg.com/assets/noimage/product-5fec99477aebb10bac85d82665ec1497de4536cda3279e59089555c45cf589fa.png',\n",
       "  '//onlinestore.wsimg.com/assets/noimage/product-5fec99477aebb10bac85d82665ec1497de4536cda3279e59089555c45cf589fa.png',\n",
       "  '//onlinestore.wsimg.com/assets/noimage/product-5fec99477aebb10bac85d82665ec1497de4536cda3279e59089555c45cf589fa.png',\n",
       "  '//onlinestore.wsimg.com/assets/noimage/product-5fec99477aebb10bac85d82665ec1497de4536cda3279e59089555c45cf589fa.png',\n",
       "  'https://isteam.wsimg.com/ip/a8efe83b-6857-477d-9d0f-f13ca0229a20/ols/3398_original/:/rs=w:600,h:600',\n",
       "  '//onlinestore.wsimg.com/assets/noimage/product-5fec99477aebb10bac85d82665ec1497de4536cda3279e59089555c45cf589fa.png',\n",
       "  '//onlinestore.wsimg.com/assets/noimage/product-5fec99477aebb10bac85d82665ec1497de4536cda3279e59089555c45cf589fa.png',\n",
       "  '//onlinestore.wsimg.com/assets/noimage/product-5fec99477aebb10bac85d82665ec1497de4536cda3279e59089555c45cf589fa.png',\n",
       "  '//onlinestore.wsimg.com/assets/noimage/product-5fec99477aebb10bac85d82665ec1497de4536cda3279e59089555c45cf589fa.png',\n",
       "  '//onlinestore.wsimg.com/assets/noimage/product-5fec99477aebb10bac85d82665ec1497de4536cda3279e59089555c45cf589fa.png'],\n",
       " 'rule_pbov': ['//onlinestore.wsimg.com/assets/noimage/product-5fec99477aebb10bac85d82665ec1497de4536cda3279e59089555c45cf589fa.png',\n",
       "  '//onlinestore.wsimg.com/assets/noimage/product-5fec99477aebb10bac85d82665ec1497de4536cda3279e59089555c45cf589fa.png',\n",
       "  '//onlinestore.wsimg.com/assets/noimage/product-5fec99477aebb10bac85d82665ec1497de4536cda3279e59089555c45cf589fa.png',\n",
       "  '//onlinestore.wsimg.com/assets/noimage/product-5fec99477aebb10bac85d82665ec1497de4536cda3279e59089555c45cf589fa.png',\n",
       "  'https://isteam.wsimg.com/ip/a8efe83b-6857-477d-9d0f-f13ca0229a20/ols/3398_original/:/rs=w:600,h:600',\n",
       "  '//onlinestore.wsimg.com/assets/noimage/product-5fec99477aebb10bac85d82665ec1497de4536cda3279e59089555c45cf589fa.png',\n",
       "  '//onlinestore.wsimg.com/assets/noimage/product-5fec99477aebb10bac85d82665ec1497de4536cda3279e59089555c45cf589fa.png',\n",
       "  '//onlinestore.wsimg.com/assets/noimage/product-5fec99477aebb10bac85d82665ec1497de4536cda3279e59089555c45cf589fa.png',\n",
       "  '//onlinestore.wsimg.com/assets/noimage/product-5fec99477aebb10bac85d82665ec1497de4536cda3279e59089555c45cf589fa.png',\n",
       "  '//onlinestore.wsimg.com/assets/noimage/product-5fec99477aebb10bac85d82665ec1497de4536cda3279e59089555c45cf589fa.png'],\n",
       " 'rule_45zq': ['//onlinestore.wsimg.com/assets/noimage/product-5fec99477aebb10bac85d82665ec1497de4536cda3279e59089555c45cf589fa.png',\n",
       "  '//onlinestore.wsimg.com/assets/noimage/product-5fec99477aebb10bac85d82665ec1497de4536cda3279e59089555c45cf589fa.png',\n",
       "  '//onlinestore.wsimg.com/assets/noimage/product-5fec99477aebb10bac85d82665ec1497de4536cda3279e59089555c45cf589fa.png',\n",
       "  '//onlinestore.wsimg.com/assets/noimage/product-5fec99477aebb10bac85d82665ec1497de4536cda3279e59089555c45cf589fa.png',\n",
       "  'https://isteam.wsimg.com/ip/a8efe83b-6857-477d-9d0f-f13ca0229a20/ols/3398_original/:/rs=w:600,h:600',\n",
       "  '//onlinestore.wsimg.com/assets/noimage/product-5fec99477aebb10bac85d82665ec1497de4536cda3279e59089555c45cf589fa.png',\n",
       "  '//onlinestore.wsimg.com/assets/noimage/product-5fec99477aebb10bac85d82665ec1497de4536cda3279e59089555c45cf589fa.png',\n",
       "  '//onlinestore.wsimg.com/assets/noimage/product-5fec99477aebb10bac85d82665ec1497de4536cda3279e59089555c45cf589fa.png',\n",
       "  '//onlinestore.wsimg.com/assets/noimage/product-5fec99477aebb10bac85d82665ec1497de4536cda3279e59089555c45cf589fa.png',\n",
       "  '//onlinestore.wsimg.com/assets/noimage/product-5fec99477aebb10bac85d82665ec1497de4536cda3279e59089555c45cf589fa.png'],\n",
       " 'rule_wgda': ['₹59.00',\n",
       "  '₹149.00',\n",
       "  '₹269.00',\n",
       "  '₹149.00',\n",
       "  '₹269.00',\n",
       "  '₹99.00',\n",
       "  '₹79.00',\n",
       "  '₹199.00',\n",
       "  '₹159.00',\n",
       "  '₹99.00'],\n",
       " 'rule_wyue': ['River Prawn Small- 4cm 250gm(Berhampur)',\n",
       "  'Rohu River Fish Raw 1Kg(Berhampur)',\n",
       "  'Rohu River Fish Cutting(No Head) 1Kg(Berhampur)',\n",
       "  'Vakura Catla River Fish Raw 1Kg(Berhampur)',\n",
       "  'Vakura Catla River Fish Cutting(No Head) 1Kg(Berhampur)',\n",
       "  'River Prawn Raw Big-12cm 250gm(Berhampur)',\n",
       "  'River Prawn Raw Middium- 6cm 250gm(Berhampur)',\n",
       "  'River Prawn Raw Big-12cm 500gm(Berhampur)',\n",
       "  'River Prawn Raw Middium- 6cm 500gm(Berhampur)',\n",
       "  'River Prawn Small- 4cm 500gm(Berhampur)'],\n",
       " 'rule_h11o': ['River Prawn Small- 4cm 250gm(Berhampur)',\n",
       "  'Rohu River Fish Raw 1Kg(Berhampur)',\n",
       "  'Rohu River Fish Cutting(No Head) 1Kg(Berhampur)',\n",
       "  'Vakura Catla River Fish Raw 1Kg(Berhampur)',\n",
       "  'Vakura Catla River Fish Cutting(No Head) 1Kg(Berhampur)',\n",
       "  'River Prawn Raw Big-12cm 250gm(Berhampur)',\n",
       "  'River Prawn Raw Middium- 6cm 250gm(Berhampur)',\n",
       "  'River Prawn Raw Big-12cm 500gm(Berhampur)',\n",
       "  'River Prawn Raw Middium- 6cm 500gm(Berhampur)',\n",
       "  'River Prawn Small- 4cm 500gm(Berhampur)'],\n",
       " 'rule_foku': ['River Prawn Small- 4cm 250gm(Berhampur)',\n",
       "  'Rohu River Fish Raw 1Kg(Berhampur)',\n",
       "  'Rohu River Fish Cutting(No Head) 1Kg(Berhampur)',\n",
       "  'Vakura Catla River Fish Raw 1Kg(Berhampur)',\n",
       "  'Vakura Catla River Fish Cutting(No Head) 1Kg(Berhampur)',\n",
       "  'River Prawn Raw Big-12cm 250gm(Berhampur)',\n",
       "  'River Prawn Raw Middium- 6cm 250gm(Berhampur)',\n",
       "  'River Prawn Raw Big-12cm 500gm(Berhampur)',\n",
       "  'River Prawn Raw Middium- 6cm 500gm(Berhampur)',\n",
       "  'River Prawn Small- 4cm 500gm(Berhampur)']}"
      ]
     },
     "execution_count": 17,
     "metadata": {},
     "output_type": "execute_result"
    }
   ],
   "source": [
    "scraper.get_result_similar(yoshops_url, grouped = True)\n"
   ]
  },
  {
   "cell_type": "code",
   "execution_count": null,
   "id": "16e95d37",
   "metadata": {},
   "outputs": [],
   "source": []
  },
  {
   "cell_type": "code",
   "execution_count": null,
   "id": "6e3f80b4",
   "metadata": {},
   "outputs": [],
   "source": []
  },
  {
   "cell_type": "code",
   "execution_count": 18,
   "id": "a5892c18",
   "metadata": {},
   "outputs": [
    {
     "name": "stdout",
     "output_type": "stream",
     "text": [
      "['rule_il33', 'rule_1x9h', 'rule_wtvq', 'rule_t24e', 'rule_ys1s', 'rule_an0i', 'rule_qsl7', 'rule_pbov', 'rule_45zq', 'rule_wgda', 'rule_wyue', 'rule_h11o', 'rule_foku']\n"
     ]
    }
   ],
   "source": [
    "keys = list(data.keys())\n",
    "print(keys)"
   ]
  },
  {
   "cell_type": "markdown",
   "id": "db87987e",
   "metadata": {},
   "source": [
    "### Defining Aliasing"
   ]
  },
  {
   "cell_type": "code",
   "execution_count": 19,
   "id": "c0bd940d",
   "metadata": {},
   "outputs": [],
   "source": [
    "scraper.set_rule_aliases({str(keys[0]):'ImageUrl',str(keys[1]):'Price',str(keys[2]):'Title'})"
   ]
  },
  {
   "cell_type": "code",
   "execution_count": 20,
   "id": "d97bcb31",
   "metadata": {},
   "outputs": [],
   "source": [
    "scraper.save(\"Yoshops_in.json\")"
   ]
  },
  {
   "cell_type": "code",
   "execution_count": null,
   "id": "df16d3f2",
   "metadata": {},
   "outputs": [],
   "source": []
  },
  {
   "cell_type": "code",
   "execution_count": 21,
   "id": "e2a58f3c",
   "metadata": {},
   "outputs": [],
   "source": [
    "yoshops_scrapper = AutoScraper()\n",
    "yoshops_scrapper.load('Yoshops_in.json')"
   ]
  },
  {
   "cell_type": "code",
   "execution_count": 28,
   "id": "302382ab",
   "metadata": {},
   "outputs": [],
   "source": [
    "search = \"/t/seafood\"\n",
    "yoshops_url = \"https://yoshops.com/{}\".format(search)\n",
    "\n",
    "# Defining what data we want \n",
    "wanted_list=[\"//onlinestore.wsimg.com/assets/noimage/product-5fec99477aebb10bac85d82665ec1497de4536cda3279e59089555c45cf589fa.png\" , \"₹59.00\" ,\n",
    "             \"River Prawn Small- 4cm 250gm(Berhampur)\"]\n",
    "\n",
    "# In our wanted list we have Image , Price and the title\n",
    "\n",
    "\n",
    "\n",
    "data = yoshops_scrapper.get_result_similar(yoshops_url, group_by_alias=True)\n",
    "search_data = tuple(zip(data['ImageUrl'],data['Price'],data['Title']))"
   ]
  },
  {
   "cell_type": "code",
   "execution_count": 29,
   "id": "9f6fcbdb",
   "metadata": {},
   "outputs": [
    {
     "data": {
      "text/plain": [
       "'//onlinestore.wsimg.com/assets/noimage/product-5fec99477aebb10bac85d82665ec1497de4536cda3279e59089555c45cf589fa.png'"
      ]
     },
     "execution_count": 29,
     "metadata": {},
     "output_type": "execute_result"
    }
   ],
   "source": [
    "search_data[0][0]"
   ]
  },
  {
   "cell_type": "code",
   "execution_count": 30,
   "id": "6a615ad1",
   "metadata": {},
   "outputs": [],
   "source": [
    "# df = pd.DataFrame(columns=['Query','Title','Price','ImageUrl'])\n",
    "# for i in range(len(search_data)):\n",
    "#     df.loc[len(df)] = [search,search_data[i][2],search_data[i][1],search_data[i][0]]"
   ]
  },
  {
   "cell_type": "code",
   "execution_count": 31,
   "id": "c0185bfa",
   "metadata": {},
   "outputs": [
    {
     "name": "stdout",
     "output_type": "stream",
     "text": [
      "(10, 4)\n"
     ]
    },
    {
     "data": {
      "text/html": [
       "<div>\n",
       "<style scoped>\n",
       "    .dataframe tbody tr th:only-of-type {\n",
       "        vertical-align: middle;\n",
       "    }\n",
       "\n",
       "    .dataframe tbody tr th {\n",
       "        vertical-align: top;\n",
       "    }\n",
       "\n",
       "    .dataframe thead th {\n",
       "        text-align: right;\n",
       "    }\n",
       "</style>\n",
       "<table border=\"1\" class=\"dataframe\">\n",
       "  <thead>\n",
       "    <tr style=\"text-align: right;\">\n",
       "      <th></th>\n",
       "      <th>Query</th>\n",
       "      <th>Title</th>\n",
       "      <th>Price</th>\n",
       "      <th>ImageUrl</th>\n",
       "    </tr>\n",
       "  </thead>\n",
       "  <tbody>\n",
       "    <tr>\n",
       "      <th>0</th>\n",
       "      <td>/t/seafood</td>\n",
       "      <td>//onlinestore.wsimg.com/assets/noimage/product...</td>\n",
       "      <td>//onlinestore.wsimg.com/assets/noimage/product...</td>\n",
       "      <td>//onlinestore.wsimg.com/assets/noimage/product...</td>\n",
       "    </tr>\n",
       "    <tr>\n",
       "      <th>1</th>\n",
       "      <td>/t/seafood</td>\n",
       "      <td>//onlinestore.wsimg.com/assets/noimage/product...</td>\n",
       "      <td>//onlinestore.wsimg.com/assets/noimage/product...</td>\n",
       "      <td>//onlinestore.wsimg.com/assets/noimage/product...</td>\n",
       "    </tr>\n",
       "    <tr>\n",
       "      <th>2</th>\n",
       "      <td>/t/seafood</td>\n",
       "      <td>//onlinestore.wsimg.com/assets/noimage/product...</td>\n",
       "      <td>//onlinestore.wsimg.com/assets/noimage/product...</td>\n",
       "      <td>//onlinestore.wsimg.com/assets/noimage/product...</td>\n",
       "    </tr>\n",
       "    <tr>\n",
       "      <th>3</th>\n",
       "      <td>/t/seafood</td>\n",
       "      <td>//onlinestore.wsimg.com/assets/noimage/product...</td>\n",
       "      <td>//onlinestore.wsimg.com/assets/noimage/product...</td>\n",
       "      <td>//onlinestore.wsimg.com/assets/noimage/product...</td>\n",
       "    </tr>\n",
       "    <tr>\n",
       "      <th>4</th>\n",
       "      <td>/t/seafood</td>\n",
       "      <td>https://isteam.wsimg.com/ip/a8efe83b-6857-477d...</td>\n",
       "      <td>https://isteam.wsimg.com/ip/a8efe83b-6857-477d...</td>\n",
       "      <td>https://isteam.wsimg.com/ip/a8efe83b-6857-477d...</td>\n",
       "    </tr>\n",
       "    <tr>\n",
       "      <th>5</th>\n",
       "      <td>/t/seafood</td>\n",
       "      <td>//onlinestore.wsimg.com/assets/noimage/product...</td>\n",
       "      <td>//onlinestore.wsimg.com/assets/noimage/product...</td>\n",
       "      <td>//onlinestore.wsimg.com/assets/noimage/product...</td>\n",
       "    </tr>\n",
       "    <tr>\n",
       "      <th>6</th>\n",
       "      <td>/t/seafood</td>\n",
       "      <td>//onlinestore.wsimg.com/assets/noimage/product...</td>\n",
       "      <td>//onlinestore.wsimg.com/assets/noimage/product...</td>\n",
       "      <td>//onlinestore.wsimg.com/assets/noimage/product...</td>\n",
       "    </tr>\n",
       "    <tr>\n",
       "      <th>7</th>\n",
       "      <td>/t/seafood</td>\n",
       "      <td>//onlinestore.wsimg.com/assets/noimage/product...</td>\n",
       "      <td>//onlinestore.wsimg.com/assets/noimage/product...</td>\n",
       "      <td>//onlinestore.wsimg.com/assets/noimage/product...</td>\n",
       "    </tr>\n",
       "    <tr>\n",
       "      <th>8</th>\n",
       "      <td>/t/seafood</td>\n",
       "      <td>//onlinestore.wsimg.com/assets/noimage/product...</td>\n",
       "      <td>//onlinestore.wsimg.com/assets/noimage/product...</td>\n",
       "      <td>//onlinestore.wsimg.com/assets/noimage/product...</td>\n",
       "    </tr>\n",
       "    <tr>\n",
       "      <th>9</th>\n",
       "      <td>/t/seafood</td>\n",
       "      <td>//onlinestore.wsimg.com/assets/noimage/product...</td>\n",
       "      <td>//onlinestore.wsimg.com/assets/noimage/product...</td>\n",
       "      <td>//onlinestore.wsimg.com/assets/noimage/product...</td>\n",
       "    </tr>\n",
       "  </tbody>\n",
       "</table>\n",
       "</div>"
      ],
      "text/plain": [
       "        Query                                              Title  \\\n",
       "0  /t/seafood  //onlinestore.wsimg.com/assets/noimage/product...   \n",
       "1  /t/seafood  //onlinestore.wsimg.com/assets/noimage/product...   \n",
       "2  /t/seafood  //onlinestore.wsimg.com/assets/noimage/product...   \n",
       "3  /t/seafood  //onlinestore.wsimg.com/assets/noimage/product...   \n",
       "4  /t/seafood  https://isteam.wsimg.com/ip/a8efe83b-6857-477d...   \n",
       "5  /t/seafood  //onlinestore.wsimg.com/assets/noimage/product...   \n",
       "6  /t/seafood  //onlinestore.wsimg.com/assets/noimage/product...   \n",
       "7  /t/seafood  //onlinestore.wsimg.com/assets/noimage/product...   \n",
       "8  /t/seafood  //onlinestore.wsimg.com/assets/noimage/product...   \n",
       "9  /t/seafood  //onlinestore.wsimg.com/assets/noimage/product...   \n",
       "\n",
       "                                               Price  \\\n",
       "0  //onlinestore.wsimg.com/assets/noimage/product...   \n",
       "1  //onlinestore.wsimg.com/assets/noimage/product...   \n",
       "2  //onlinestore.wsimg.com/assets/noimage/product...   \n",
       "3  //onlinestore.wsimg.com/assets/noimage/product...   \n",
       "4  https://isteam.wsimg.com/ip/a8efe83b-6857-477d...   \n",
       "5  //onlinestore.wsimg.com/assets/noimage/product...   \n",
       "6  //onlinestore.wsimg.com/assets/noimage/product...   \n",
       "7  //onlinestore.wsimg.com/assets/noimage/product...   \n",
       "8  //onlinestore.wsimg.com/assets/noimage/product...   \n",
       "9  //onlinestore.wsimg.com/assets/noimage/product...   \n",
       "\n",
       "                                            ImageUrl  \n",
       "0  //onlinestore.wsimg.com/assets/noimage/product...  \n",
       "1  //onlinestore.wsimg.com/assets/noimage/product...  \n",
       "2  //onlinestore.wsimg.com/assets/noimage/product...  \n",
       "3  //onlinestore.wsimg.com/assets/noimage/product...  \n",
       "4  https://isteam.wsimg.com/ip/a8efe83b-6857-477d...  \n",
       "5  //onlinestore.wsimg.com/assets/noimage/product...  \n",
       "6  //onlinestore.wsimg.com/assets/noimage/product...  \n",
       "7  //onlinestore.wsimg.com/assets/noimage/product...  \n",
       "8  //onlinestore.wsimg.com/assets/noimage/product...  \n",
       "9  //onlinestore.wsimg.com/assets/noimage/product...  "
      ]
     },
     "execution_count": 31,
     "metadata": {},
     "output_type": "execute_result"
    }
   ],
   "source": [
    "# print(df.shape)\n",
    "# df"
   ]
  },
  {
   "cell_type": "code",
   "execution_count": null,
   "id": "9a03735c",
   "metadata": {},
   "outputs": [],
   "source": []
  }
 ],
 "metadata": {
  "kernelspec": {
   "display_name": "Python 3 (ipykernel)",
   "language": "python",
   "name": "python3"
  },
  "language_info": {
   "codemirror_mode": {
    "name": "ipython",
    "version": 3
   },
   "file_extension": ".py",
   "mimetype": "text/x-python",
   "name": "python",
   "nbconvert_exporter": "python",
   "pygments_lexer": "ipython3",
   "version": "3.9.7"
  }
 },
 "nbformat": 4,
 "nbformat_minor": 5
}
